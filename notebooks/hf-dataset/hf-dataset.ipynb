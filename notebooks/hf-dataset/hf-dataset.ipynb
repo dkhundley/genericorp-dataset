{
 "cells": [
  {
   "cell_type": "code",
   "execution_count": null,
   "id": "bdc92206",
   "metadata": {},
   "outputs": [],
   "source": []
  },
  {
   "cell_type": "code",
   "execution_count": null,
   "id": "ede0a1c8",
   "metadata": {},
   "outputs": [],
   "source": []
  }
 ],
 "metadata": {
  "kernelspec": {
   "display_name": "genericorp_venv",
   "language": "python",
   "name": "genericorp_venv"
  },
  "language_info": {
   "name": "python",
   "version": "3.12.9"
  }
 },
 "nbformat": 4,
 "nbformat_minor": 5
}
