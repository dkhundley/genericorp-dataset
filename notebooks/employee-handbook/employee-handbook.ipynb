{
 "cells": [
  {
   "cell_type": "markdown",
   "metadata": {},
   "source": [
    "# GeneriCorp Employee Handbook\n",
    "This notebook demonstrates how I simulated the documents representing GeneriCorp's employee handbook. I chose NOT to use ChatGPT directly since it would have been too tedious to generate all these by hand! As such, I'll demonstrate for you how we can use the OpenAI API to generate these documents in an automated, efficient manner."
   ]
  },
  {
   "cell_type": "markdown",
   "metadata": {},
   "source": [
    "## Notebook Setup"
   ]
  },
  {
   "cell_type": "code",
   "execution_count": 21,
   "metadata": {},
   "outputs": [],
   "source": [
    "# Importing the necessary Python libraries\n",
    "import os\n",
    "import json\n",
    "import pandas as pd\n",
    "from langchain.output_parsers import CommaSeparatedListOutputParser\n",
    "from langchain_core.prompts import PromptTemplate, ChatPromptTemplate, HumanMessagePromptTemplate\n",
    "from langchain_openai import ChatOpenAI, OpenAIEmbeddings"
   ]
  },
  {
   "cell_type": "code",
   "execution_count": 22,
   "metadata": {},
   "outputs": [],
   "source": [
    "# Instantiating the chat model\n",
    "chat_model = ChatOpenAI(api_key = os.environ['OPENAI_API_KEY'],\n",
    "                        model = 'gpt-4o-mini')"
   ]
  },
  {
   "cell_type": "code",
   "execution_count": 23,
   "metadata": {},
   "outputs": [],
   "source": [
    "# Loading the company history from file\n",
    "with open('../../genericorp/about-gc/company-history.md', 'r', encoding = 'utf-8') as file:\n",
    "    company_history = file.read()"
   ]
  },
  {
   "cell_type": "markdown",
   "metadata": {},
   "source": [
    "## Generating Handbook Topics"
   ]
  },
  {
   "cell_type": "code",
   "execution_count": 24,
   "metadata": {},
   "outputs": [],
   "source": [
    "# Creating the topic generation prompt\n",
    "TOPIC_GENERATION_PROMPT = '''Imagine a fictional company called GeneriCorp. Their company history is as follows:\n",
    "\n",
    "{company_history}\n",
    "\n",
    "Please generate a list of topics they may be found within the employee handbook. Please output them in a Python comma-separated list format. Do not provide any additional text aside from the Python list.'''\n",
    "\n",
    "# Instantiating the output parser\n",
    "output_parser = CommaSeparatedListOutputParser()\n",
    "\n",
    "# Setting up the chat prompt template\n",
    "topic_generation_prompt_template = PromptTemplate(\n",
    "    template = TOPIC_GENERATION_PROMPT + '\\n{format_instructions}',\n",
    "    input_variables = ['company_history'],\n",
    "    partial_variables = {'format_instructions': output_parser.get_format_instructions()}\n",
    ")\n",
    "\n",
    "# Creating the topic generation chain\n",
    "topic_generation_chain = topic_generation_prompt_template | chat_model | output_parser"
   ]
  },
  {
   "cell_type": "code",
   "execution_count": 25,
   "metadata": {},
   "outputs": [
    {
     "name": "stdout",
     "output_type": "stream",
     "text": [
      "Number of topics: 21\n",
      "Topics: ['company-culture', 'code-of-conduct', 'benefits-and-compensation', 'employee-wellness-programs', 'diversity-and-inclusion', 'harassment-and-discrimination-policies', 'workplace-safety', 'remote-work-policies', 'performance-reviews', 'training-and-development', 'confidentiality-agreements', 'intellectual-property', 'employee-resources', 'leave-policies', 'travel-policies', 'communication-guidelines', 'ethics-and-compliance', 'work-life-balance', 'grievance-procedures', 'team-building-activities', 'recognition-programs']\n"
     ]
    }
   ],
   "source": [
    "# Setting the name of a topics cache file\n",
    "TOPICS_CACHE_FILE = 'handbook_topics.json'\n",
    "\n",
    "# Checking if cached topics exist\n",
    "if os.path.exists(TOPICS_CACHE_FILE):\n",
    "    \n",
    "    # Loading topics from cache\n",
    "    with open(TOPICS_CACHE_FILE, 'r') as f:\n",
    "        handbook_topics = json.load(f)\n",
    "        \n",
    "else:\n",
    "\n",
    "    # Generating topics using the AI model\n",
    "    handbook_topics = topic_generation_chain.invoke({\"company_history\": company_history})\n",
    "    \n",
    "    # Caching the results\n",
    "    with open(TOPICS_CACHE_FILE, 'w') as f:\n",
    "        json.dump(handbook_topics, f)\n",
    "\n",
    "# Replacing spaces with underscores in handbook topics\n",
    "handbook_topics = [topic.replace(' ', '-') for topic in handbook_topics]\n",
    "\n",
    "print(f\"Number of topics: {len(handbook_topics)}\")\n",
    "print(\"Topics:\", handbook_topics)"
   ]
  },
  {
   "cell_type": "markdown",
   "metadata": {},
   "source": [
    "## Generating the Handbook Pages from the Topics"
   ]
  },
  {
   "cell_type": "code",
   "execution_count": 26,
   "metadata": {},
   "outputs": [],
   "source": [
    "# Creating the handbook page generation prompt\n",
    "HANDBOOK_PAGE_GENERATION_PROMPT = '''Generate a professional and structured employee handbook page on the topic:\n",
    "\n",
    "{handbook_topic}\n",
    "\n",
    "As a reminder, here is the company history:\n",
    "\n",
    "{company_history}\n",
    "\n",
    "The handbook page should be formatted with clear headings and subheadings, using a formal yet approachable tone suitable for employees.\n",
    "\n",
    "The page should include the following structured sections:\n",
    "\t1.\tTitle – A clear and precise title reflecting the topic.\n",
    "\t2.\tIntroduction – A brief overview explaining why this topic is important and its relevance to employees.\n",
    "\t3.\tPolicy Overview (if applicable) – A structured breakdown of the rules, guidelines, or best practices employees must follow.\n",
    "\t4.\tEmployee Responsibilities – Expectations for employees regarding this topic.\n",
    "\t5.\tCompany Commitment (if applicable) – How the company supports or enforces this policy (e.g., for Diversity & Inclusion, this might include training programs; for Workplace Safety, this might cover compliance measures).\n",
    "\t6.\tProcedures – Steps employees need to follow (e.g., how to report an issue, request a benefit, or participate in a program).\n",
    "\t7.\tAdditional Notes & Compliance – Any legal, ethical, or procedural considerations employees should be aware of.\n",
    "\t8.\tResources & Contact Information – Who employees should reach out to for more information (e.g., HR, department heads, internal portals).\n",
    "\n",
    "Ensure that the page is concise, clear, and aligned with best HR practices. If applicable, provide bullet points for readability and avoid overly technical language while maintaining professionalism.\n",
    "\n",
    "Format the output as a well-structured, ready-to-use employee handbook page.\n",
    "'''\n",
    "\n",
    "# Setting up the chat prompt template\n",
    "handbook_page_prompt_template = PromptTemplate(\n",
    "    template = HANDBOOK_PAGE_GENERATION_PROMPT,\n",
    "    input_variables = ['handbook_topic', 'company_history'],\n",
    ")\n",
    "\n",
    "# Creating the handbook page generation chain\n",
    "handbook_page_generation_chain = handbook_page_prompt_template | chat_model"
   ]
  },
  {
   "cell_type": "code",
   "execution_count": 27,
   "metadata": {},
   "outputs": [],
   "source": [
    "# Setting the directory for the employee handbook pages\n",
    "employee_handbook_dir = '../../genericorp/employee-handbook/'\n",
    "\n",
    "# Iterating over each of the topics for the employee handbook\n",
    "for handbook_topic in handbook_topics:\n",
    "    \n",
    "    # Defining the file path for the employee handbook page\n",
    "    file_path = f'{employee_handbook_dir}{handbook_topic}.md'\n",
    "    \n",
    "    # Checking if file for the employee handbook page already exists\n",
    "    if not os.path.exists(file_path):\n",
    "\n",
    "        # Generating the employee handbook page with the LLM\n",
    "        response = handbook_page_generation_chain.invoke({\"handbook_topic\": handbook_topic, \"company_history\": company_history})\n",
    "        \n",
    "        # Saving the employee handbook page to file\n",
    "        with open(file_path, 'w', encoding = 'utf-8') as file:\n",
    "            file.write(response.content)"
   ]
  },
  {
   "cell_type": "code",
   "execution_count": null,
   "metadata": {},
   "outputs": [],
   "source": []
  }
 ],
 "metadata": {
  "kernelspec": {
   "display_name": "genericorp_venv",
   "language": "python",
   "name": "genericorp_venv"
  },
  "language_info": {
   "codemirror_mode": {
    "name": "ipython",
    "version": 3
   },
   "file_extension": ".py",
   "mimetype": "text/x-python",
   "name": "python",
   "nbconvert_exporter": "python",
   "pygments_lexer": "ipython3",
   "version": "3.12.9"
  }
 },
 "nbformat": 4,
 "nbformat_minor": 2
}
