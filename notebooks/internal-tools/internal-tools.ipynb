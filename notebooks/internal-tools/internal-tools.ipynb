{
 "cells": [
  {
   "cell_type": "markdown",
   "metadata": {},
   "source": [
    "# GeneriCorp Internal Tools"
   ]
  },
  {
   "cell_type": "markdown",
   "metadata": {},
   "source": [
    "## Notebook Setup"
   ]
  },
  {
   "cell_type": "code",
   "execution_count": 1,
   "metadata": {},
   "outputs": [],
   "source": [
    "# Importing the necessary Python libraries\n",
    "import os\n",
    "import json\n",
    "import pandas as pd\n",
    "from langchain.output_parsers import CommaSeparatedListOutputParser\n",
    "from langchain_core.prompts import PromptTemplate\n",
    "from langchain_openai import ChatOpenAI"
   ]
  },
  {
   "cell_type": "code",
   "execution_count": 2,
   "metadata": {},
   "outputs": [],
   "source": [
    "# Instantiating the chat model\n",
    "chat_model = ChatOpenAI(api_key = os.environ['OPENAI_API_KEY'],\n",
    "                        model = 'gpt-4o-mini')"
   ]
  },
  {
   "cell_type": "code",
   "execution_count": 3,
   "metadata": {},
   "outputs": [],
   "source": [
    "# Loading the company history from file\n",
    "with open('../../genericorp/about-gc/company-history.md', 'r', encoding = 'utf-8') as file:\n",
    "    company_history = file.read()"
   ]
  },
  {
   "cell_type": "code",
   "execution_count": 4,
   "metadata": {},
   "outputs": [],
   "source": [
    "# Loading the list of GeneriCorp tools and descriptions from file\n",
    "with open('genericorp_internal_tools.json', 'r') as file:\n",
    "    genericorp_internal_tools = json.load(file)"
   ]
  },
  {
   "cell_type": "markdown",
   "metadata": {},
   "source": [
    "## Generating Knowledge Item Topic Ideas"
   ]
  },
  {
   "cell_type": "code",
   "execution_count": 5,
   "metadata": {},
   "outputs": [],
   "source": [
    "# Creating the topic generation prompt\n",
    "TOPIC_GENERATION_PROMPT = '''Imagine a fictional company called GeneriCorp. Their company history is as follows:\n",
    "\n",
    "{company_history}\n",
    "\n",
    "Please generate a list of potential knowledge items that might support the internal tool named \"{tool_name}\". Here is a description of the tool:\n",
    "\n",
    "{tool_description} \n",
    "\n",
    "Consider the tool's purpose, features, and how it integrates within GeneriCorp's operations.\n",
    "\n",
    "Please output the knowledge items in a Python comma-separated list format. Do not provide any additional text aside from the Python list.\n",
    "'''\n",
    "\n",
    "\n",
    "# Instantiating the output parser\n",
    "output_parser = CommaSeparatedListOutputParser()\n",
    "\n",
    "# Setting up the chat prompt template\n",
    "topic_generation_prompt_template = PromptTemplate(\n",
    "    template = TOPIC_GENERATION_PROMPT + '\\n{format_instructions}',\n",
    "    input_variables = ['company_history', 'tool_name', 'tool_description'],\n",
    "    partial_variables = {'format_instructions': output_parser.get_format_instructions()}\n",
    ")\n",
    "\n",
    "# Creating the topic generation chain\n",
    "topic_generation_chain = topic_generation_prompt_template | chat_model | output_parser"
   ]
  },
  {
   "cell_type": "code",
   "execution_count": 6,
   "metadata": {},
   "outputs": [
    {
     "name": "stdout",
     "output_type": "stream",
     "text": [
      "\n",
      "Tool: GenOps Suite\n",
      "Number of topics: 15\n",
      "Topics: ['`HR management best practices', 'finance workflow automation guidelines', 'procurement process optimization', 'logistics and supply chain tracking techniques', 'internal ticketing system usage', 'standard operating procedures for GenOps Suite', 'troubleshooting common issues in GenOps', 'integration methods with existing systems', 'data management and reporting techniques', 'user training resources for employees', 'case studies on workflow automation success', 'compliance and regulatory requirements', 'cost-saving strategies in operations', 'performance metrics for enterprise operations', 'FAQs about the GenOps Suite`']\n",
      "\n",
      "Tool: CircuitForge\n",
      "Number of topics: 15\n",
      "Topics: ['`user_manual', 'circuit_design_guidelines', 'simulation_test_cases', 'AI_diagnostics_integration', 'debugging_techniques', 'hardware_component_library', 'firmware_update_protocols', 'troubleshooting_guide', 'performance_metrics_analysis', 'circuit_schematic_examples', 'design_best_practices', 'case_studies_on_failure_predictions', 'regulatory_compliance_checklist', 'version_control_and_collaboration', 'feedback_and_issues_log`']\n",
      "\n",
      "Tool: GridSense AI\n",
      "Number of topics: 21\n",
      "Topics: ['`energy consumption optimization', 'machine learning algorithms', 'predictive maintenance techniques', 'failure detection mechanisms', 'industrial power grid integration', 'smart diagnostics overview', 'data analytics for energy infrastructure', 'user manual for GridSense AI', 'case studies on efficiency improvements', 'setup and configuration guide', 'troubleshooting common issues', 'API documentation for third-party integration', 'performance metrics and reporting', 'best practices for energy management', 'training materials for operators', 'feedback and support channels', 'real-time monitoring features', 'safety protocols and compliance', 'historical data analysis', 'success stories from clients', 'future roadmap of GridSense AI`']\n",
      "\n",
      "Tool: Magnus\n",
      "Number of topics: 20\n",
      "Topics: ['`component specifications', 'manufacturing process guides', 'troubleshooting manuals', 'software integration protocols', 'industrial IoT best practices', 'AI diagnostic tools', 'case studies of past projects', 'code snippets for firmware development', 'frequently asked questions about products', 'safety protocols for handling electrical equipment', 'guidelines for automated support via IT helpdesk', 'maintenance procedures for power systems', 'training materials for new employees', 'summaries of recent innovations', 'best practices for sustainable energy solutions', 'historical company incidents and lessons learned', 'customer feedback and solutions database', 'competitive analysis of industry trends', 'regulatory compliance information', 'product roadmap updates`']\n",
      "\n",
      "Tool: FactoryLink\n",
      "Number of topics: 15\n",
      "Topics: ['`user_manual', 'installation_guide', 'API_documentation', 'IoT_device_compatibility_list', 'production_efficiency_metrics', 'maintenance_alerts_overview', 'case_studies', 'best_practices', 'training_videos', 'customer_support_contact_information', 'system_requirements', 'deployment_guide', 'security_protocols', 'common_issues_troubleshooting', 'updates_and_release_notes`']\n",
      "\n",
      "Tool: TitanFlow\n",
      "Number of topics: 17\n",
      "Topics: ['```python', 'AI algorithms for demand forecasting', 'Raw material procurement strategies', 'Inventory management best practices', 'Shipping logistics optimization techniques', 'Supply chain risk assessment frameworks', 'Data integration methods for ERP systems', 'Real-time tracking systems for inventory levels', 'Case studies on successful supply chain transformations', 'Maintenance of supplier relationships and evaluation', 'Impact of external factors on supply chain performance', 'Performance metrics for supply chain efficiency', 'User manuals for TitanFlow features', 'Training materials for TitanFlow usage', 'Collaboration tools for supply chain teams', 'Continuous improvement methodologies for supply chain processes', '```']\n",
      "\n",
      "Tool: GenVault\n",
      "Number of topics: 15\n",
      "Topics: ['`data_storage_best_practices', 'zero_trust_security_principles', 'AI_anomaly_detection', 'blockchain_audit_trails', 'compliance_regulations', 'proprietary_designs_modifications', 'internal_security_protocols', 'incident_response_guidelines', 'training_materials_on_GenVault', 'software_integration_issues', 'role_based_access_control', 'employee_onboarding_for_GenVault', 'real_time_monitoring_techniques', 'legacy_system_integration', 'case_studies_on_data_breach_prevention`']\n",
      "\n",
      "Tool: Ethos\n",
      "Number of topics: 15\n",
      "Topics: ['`reporting guidelines', 'anonymous reporting procedures', 'compliance policies', 'workplace ethics training', 'NLU trend analysis documentation', 'case studies of ethical dilemmas', 'whistleblower protection information', 'mobile app user guide', 'feedback mechanisms for reporting process', 'regular audit schedule', 'communication channels for raising concerns', 'root cause analysis frameworks', 'company values and mission statement', 'real-life examples of ethical behavior', 'escalation procedures for serious violations`']\n",
      "\n",
      "Tool: PulseMetrics\n",
      "Number of topics: 15\n",
      "Topics: ['`employee_productivity_metrics', 'team_performance_indicators', 'project_progress_tracking', 'employee_engagement_levels', 'sentiment_analysis_engines', 'survey_response_analysis', 'feedback_loop_management', 'AI-powered_insights', 'customizable_dashboard_views', 'real_time_performance_updates', 'goal_setting_and_monitoring', 'alert_systems_for_underperformance', 'collaboration_tools_integration', 'departmental_performance_benchmarks', 'annual_performance_review_support`']\n",
      "\n",
      "Tool: DeepRidge\n",
      "Number of topics: 15\n",
      "Topics: ['`machine_learning_algorithms', 'industrial_data_preprocessing', 'secure_compute_cluster_configuration', 'automated_MLOps_pipeline_setup', 'synthetic_data_generation_techniques', 'model_testing_best_practices', 'data_visualization_tools', 'real_time_data_integration', 'hyperparameter_tuning_strategies', 'ML_model_deployment_protocols', 'case_studies_on_AI_in_industrial_automation', 'AI_ethics_in_manufacturing', 'collaboration_best_practices_for_R&D_teams', 'performance_metrics_for_AI_models', 'feedback_loop_establishment_for_model_improvement`']\n",
      "\n",
      "Tool: CogniBot\n",
      "Number of topics: 15\n",
      "Topics: ['`installation_guide', 'software_troubleshooting', 'hardware_faq', 'password_reset_procedure', 'contact_support', 'network_configuration', 'system_requirements', 'faq_on_generiCorp_products', 'technical_documentation', 'employee_onboarding_resources', 'IT_security_protocols', 'remote_access_instructions', 'integration_documentation', 'incident_management_process', 'training_videos`']\n",
      "\n",
      "Tool: EchoSync\n",
      "Number of topics: 10\n",
      "Topics: ['`user_manual', 'faq', 'training_videos', 'meeting_best_practices', 'AI_transcription_guide', 'action_item_tracking_tips', 'security_protocols', 'departmental_contact_list', 'integrations_with_other_tools', 'feedback_and_support_channel`']\n",
      "\n",
      "Tool: ForgeOS (Factory Operations and Grid Reliability Operating System)\n",
      "Number of topics: 20\n",
      "Topics: ['`real_time_operating_system', 'high_reliability_firmware_updates', 'self_healing_capabilities', 'embedded_systems_integration', 'industrial_controllers_support', 'diagnostic_and_monitoring_tools', 'AI_powered_data_analysis', 'IoT_connectivity', 'system_security_protocols', 'customizable_user_interfaces', 'performance_metrics_dashboard', 'remote_update_capabilities', 'error_detection_and_recognition', 'system_failover_features', 'energy_efficiency_optimizations', 'collaboration_with_industry_standards', 'real_world_case_studies', 'technical_support_resources', 'developer_documentation', 'training_materials`']\n",
      "\n",
      "Tool: CodeQuorum\n",
      "Number of topics: 15\n",
      "Topics: ['`CodeQuorum user guide', 'Secure DevOps pipeline setup', 'Automated unit testing procedures', 'Model deployment best practices', 'Embedded systems coding standards', 'AI research documentation', 'Collaborative coding practices', 'Version control strategies for industrial automation', 'Issue tracking and resolution methods', 'Continuous integration and delivery techniques', 'Security protocols for embedded systems', 'Performance monitoring tools for AI models', 'Code review processes', 'Documentation of APIs and libraries', 'Integration with existing GeneriCorp software tools`']\n",
      "\n",
      "Tool: HORIZON\n",
      "Number of topics: 15\n",
      "Topics: ['`project_guidelines', 'collaboration_tools', 'virtual_workspace_features', 'digital_twin_simulations', 'VR_prototype_walkthroughs', 'AI_research_synthesis', 'best_practices_for_remote_collaboration', 'security_procedures', 'data_management_protocols', 'software_integration_methods', 'resource_efficiency_strategies', 'feedback_mechanisms', 'innovation_workshops', 'team_building_exercises', 'knowledge_base_access`']\n"
     ]
    }
   ],
   "source": [
    "# Setting up the cache directory\n",
    "TOPICS_CACHE_DIR = 'knowledge_topics_cache'\n",
    "os.makedirs(TOPICS_CACHE_DIR, exist_ok = True)\n",
    "\n",
    "# Dictionary to store all knowledge topics\n",
    "all_knowledge_topics = {}\n",
    "\n",
    "# Iterating through each tool\n",
    "for tool_name, tool_description in genericorp_internal_tools.items():\n",
    "\n",
    "    # Creating a cache filename for this specific tool\n",
    "    cache_file = f\"{TOPICS_CACHE_DIR}/{tool_name.replace(' ', '_').lower()}_topics.json\"\n",
    "    \n",
    "    # Checking if cached topics exist for this tool\n",
    "    if os.path.exists(cache_file):\n",
    "\n",
    "        # Loading topics from cache\n",
    "        with open(cache_file, 'r') as f:\n",
    "            tool_topics = json.load(f)\n",
    "    else:\n",
    "        # Generating topics using the AI model for this tool\n",
    "        tool_topics = topic_generation_chain.invoke({\n",
    "            \"company_history\": company_history,\n",
    "            \"tool_name\": tool_name,\n",
    "            \"tool_description\": tool_description\n",
    "        })\n",
    "        \n",
    "        # Caching the results\n",
    "        with open(cache_file, 'w') as f:\n",
    "            json.dump(tool_topics, f)\n",
    "    \n",
    "    # Store topics for this tool\n",
    "    all_knowledge_topics[tool_name] = tool_topics\n",
    "    \n",
    "    # Print results for this tool\n",
    "    print(f\"\\nTool: {tool_name}\")\n",
    "    print(f\"Number of topics: {len(tool_topics)}\")\n",
    "    print(\"Topics:\", tool_topics)"
   ]
  },
  {
   "cell_type": "markdown",
   "metadata": {},
   "source": [
    "## Generating the Handbook Pages from the Topics"
   ]
  },
  {
   "cell_type": "code",
   "execution_count": 7,
   "metadata": {},
   "outputs": [],
   "source": [
    "# # Creating the handbook page generation prompt\n",
    "# HANDBOOK_PAGE_GENERATION_PROMPT = '''Generate a professional and structured employee handbook page on the topic:\n",
    "\n",
    "# {handbook_topic}\n",
    "\n",
    "# As a reminder, here is the company history:\n",
    "\n",
    "# {company_history}\n",
    "\n",
    "# The handbook page should be formatted with clear headings and subheadings, using a formal yet approachable tone suitable for employees.\n",
    "\n",
    "# The page should include the following structured sections:\n",
    "# \t1.\tTitle – A clear and precise title reflecting the topic.\n",
    "# \t2.\tIntroduction – A brief overview explaining why this topic is important and its relevance to employees.\n",
    "# \t3.\tPolicy Overview (if applicable) – A structured breakdown of the rules, guidelines, or best practices employees must follow.\n",
    "# \t4.\tEmployee Responsibilities – Expectations for employees regarding this topic.\n",
    "# \t5.\tCompany Commitment (if applicable) – How the company supports or enforces this policy (e.g., for Diversity & Inclusion, this might include training programs; for Workplace Safety, this might cover compliance measures).\n",
    "# \t6.\tProcedures – Steps employees need to follow (e.g., how to report an issue, request a benefit, or participate in a program).\n",
    "# \t7.\tAdditional Notes & Compliance – Any legal, ethical, or procedural considerations employees should be aware of.\n",
    "# \t8.\tResources & Contact Information – Who employees should reach out to for more information (e.g., HR, department heads, internal portals).\n",
    "\n",
    "# Ensure that the page is concise, clear, and aligned with best HR practices. If applicable, provide bullet points for readability and avoid overly technical language while maintaining professionalism.\n",
    "\n",
    "# Format the output as a well-structured, ready-to-use employee handbook page.\n",
    "# '''\n",
    "\n",
    "# # Setting up the chat prompt template\n",
    "# handbook_page_prompt_template = PromptTemplate(\n",
    "#     template = HANDBOOK_PAGE_GENERATION_PROMPT,\n",
    "#     input_variables = ['handbook_topic', 'company_history'],\n",
    "# )\n",
    "\n",
    "# # Creating the handbook page generation chain\n",
    "# handbook_page_generation_chain = handbook_page_prompt_template | chat_model"
   ]
  },
  {
   "cell_type": "code",
   "execution_count": 8,
   "metadata": {},
   "outputs": [],
   "source": [
    "# # Setting the directory for the employee handbook pages\n",
    "# employee_handbook_dir = '../../genericorp/employee-handbook/'\n",
    "\n",
    "# # Iterating over each of the topics for the employee handbook\n",
    "# for handbook_topic in handbook_topics:\n",
    "    \n",
    "#     # Defining the file path for the employee handbook page\n",
    "#     file_path = f'{employee_handbook_dir}{handbook_topic}.md'\n",
    "    \n",
    "#     # Checking if file for the employee handbook page already exists\n",
    "#     if not os.path.exists(file_path):\n",
    "\n",
    "#         # Generating the employee handbook page with the LLM\n",
    "#         response = handbook_page_generation_chain.invoke({\"handbook_topic\": handbook_topic, \"company_history\": company_history})\n",
    "        \n",
    "#         # Saving the employee handbook page to file\n",
    "#         with open(file_path, 'w', encoding = 'utf-8') as file:\n",
    "#             file.write(response.content)"
   ]
  },
  {
   "cell_type": "code",
   "execution_count": null,
   "metadata": {},
   "outputs": [],
   "source": []
  },
  {
   "cell_type": "code",
   "execution_count": null,
   "metadata": {},
   "outputs": [],
   "source": []
  }
 ],
 "metadata": {
  "kernelspec": {
   "display_name": "Python 3",
   "language": "python",
   "name": "python3"
  },
  "language_info": {
   "codemirror_mode": {
    "name": "ipython",
    "version": 3
   },
   "file_extension": ".py",
   "mimetype": "text/x-python",
   "name": "python",
   "nbconvert_exporter": "python",
   "pygments_lexer": "ipython3",
   "version": "3.11.11"
  }
 },
 "nbformat": 4,
 "nbformat_minor": 2
}
