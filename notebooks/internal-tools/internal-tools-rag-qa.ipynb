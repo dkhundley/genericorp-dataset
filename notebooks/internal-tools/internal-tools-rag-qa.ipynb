{
 "cells": [
  {
   "cell_type": "code",
   "execution_count": 1,
   "id": "f433bf62",
   "metadata": {},
   "outputs": [],
   "source": [
    "# Importing the necessary Python libraries\n",
    "import os\n",
    "import json\n",
    "import pandas as pd"
   ]
  },
  {
   "cell_type": "code",
   "execution_count": 2,
   "id": "81fca672",
   "metadata": {},
   "outputs": [],
   "source": [
    "# Loading the internal tool descriptions\n",
    "with open('genericorp_internal_tools.json', 'r') as f:\n",
    "    internal_tools = json.load(f)"
   ]
  },
  {
   "cell_type": "code",
   "execution_count": 12,
   "id": "5daa4d86",
   "metadata": {},
   "outputs": [],
   "source": [
    "# Setting the location of the tool filepath\n",
    "tool_filepath = '../../genericorp/internal-tools/'\n",
    "\n",
    "# Iterating over each of the internal tools\n",
    "for tool, description in internal_tools.items():\n",
    "\n",
    "    # Setting the tool name and description\n",
    "    tool_name = tool\n",
    "    tool_description = description\n",
    "\n",
    "    # Setting the specific tool filepath\n",
    "    current_tool_filepath = os.path.join(tool_filepath, tool_name)\n",
    "\n",
    "    # Listing all .md files in the current tool's directory\n",
    "    md_files = [f for f in os.listdir(current_tool_filepath) if f.endswith('.md')]\n",
    "\n",
    "    # Instantiating a string to hold the combined content\n",
    "    combined_doc_content = \"\"\n",
    "\n",
    "    # Iterating over each of the markdown files\n",
    "    for md_file in md_files:\n",
    "\n",
    "        # Creating a readable title from the filename\n",
    "        doc_title = os.path.splitext(md_file)[0].replace('_', ' ')\n",
    "        \n",
    "        # Read the content of the markdown file\n",
    "        md_path = os.path.join(current_tool_filepath, md_file)\n",
    "        with open(md_path, 'r', encoding='utf-8') as file:\n",
    "            doc_content = file.read()\n",
    "        \n",
    "        # Append the tool, description, document title, and content to the combined_doc_content string\n",
    "        combined_doc_content += f\"Document Title: {doc_title}\\n\"\n",
    "        combined_doc_content += f\"Document Content:\\n{doc_content}\\n\\n\""
   ]
  },
  {
   "cell_type": "code",
   "execution_count": 14,
   "id": "dfc91bca",
   "metadata": {},
   "outputs": [],
   "source": [
    "# Creating a prompt to generate a set of questions associated to each tool\n",
    "rag_qa_generation_prompt_template = \"\"\"\n",
    "You are a technical writer helping to prepare content for a Retrieval-Augmented Generation (RAG) system.\n",
    "\n",
    "Given the following block of documentation about an internal technical tool. Below, I have provided the tool name, tool description, and a number of knowledge item documents associated to the tool.\n",
    "\n",
    "---\n",
    "Tool name: {tool_name}\n",
    "Tool description: {tool_description}\n",
    "Knowledge document content:\n",
    "{combined_doc_content}\n",
    "---\n",
    "\n",
    "Generate {num_questions} question-answer pairs that:\n",
    "- Reflect the key information and capabilities presented.\n",
    "- Vary in complexity (some simple factual, some more applied).\n",
    "- Stay grounded in the source text (avoid hallucinating or inventing facts).\n",
    "- Represent questions that a developer or internal user might realistically ask.\n",
    "\n",
    "Each pair should be structured like this:\n",
    "\n",
    "Q: [Question here]\n",
    "A: [Answer grounded in the document]\n",
    "\n",
    "Return the result as a list of Q&A pairs.\n",
    "\"\"\""
   ]
  },
  {
   "cell_type": "code",
   "execution_count": null,
   "id": "63a41936",
   "metadata": {},
   "outputs": [],
   "source": []
  }
 ],
 "metadata": {
  "kernelspec": {
   "display_name": "genericorp_venv",
   "language": "python",
   "name": "genericorp_venv"
  },
  "language_info": {
   "codemirror_mode": {
    "name": "ipython",
    "version": 3
   },
   "file_extension": ".py",
   "mimetype": "text/x-python",
   "name": "python",
   "nbconvert_exporter": "python",
   "pygments_lexer": "ipython3",
   "version": "3.12.9"
  }
 },
 "nbformat": 4,
 "nbformat_minor": 5
}
